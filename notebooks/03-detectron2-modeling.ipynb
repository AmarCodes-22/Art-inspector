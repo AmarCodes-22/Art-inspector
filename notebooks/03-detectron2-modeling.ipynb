{
 "cells": [
  {
   "cell_type": "code",
   "execution_count": 1,
   "metadata": {},
   "outputs": [],
   "source": [
    "from detectron2.modeling import FPN, ResNet\n",
    "from torchinfo import summary\n",
    "from torchvision.models.resnet import BasicBlock"
   ]
  },
  {
   "cell_type": "markdown",
   "metadata": {},
   "source": [
    "# ResNet"
   ]
  },
  {
   "cell_type": "code",
   "execution_count": 2,
   "metadata": {},
   "outputs": [
    {
     "data": {
      "text/plain": [
       "detectron2.modeling.backbone.resnet.ResNet"
      ]
     },
     "execution_count": 2,
     "metadata": {},
     "output_type": "execute_result"
    }
   ],
   "source": [
    "from detectron2.config import get_cfg\n",
    "from detectron2.modeling import build_resnet_backbone\n",
    "from detectron2.layers import ShapeSpec\n",
    "\n",
    "cfg = get_cfg()\n",
    "\n",
    "# creates a resnet50 backbone because basic config specifies so\n",
    "resnet_backbone = build_resnet_backbone(cfg=cfg, input_shape=ShapeSpec(channels=3))\n",
    "\n",
    "type(resnet_backbone)"
   ]
  },
  {
   "cell_type": "markdown",
   "metadata": {},
   "source": [
    "# FPN"
   ]
  },
  {
   "cell_type": "code",
   "execution_count": 12,
   "metadata": {},
   "outputs": [
    {
     "data": {
      "text/plain": [
       "detectron2.modeling.backbone.fpn.FPN"
      ]
     },
     "execution_count": 12,
     "metadata": {},
     "output_type": "execute_result"
    }
   ],
   "source": [
    "from detectron2.modeling.backbone.fpn import build_resnet_fpn_backbone\n",
    "\n",
    "cfg = get_cfg()\n",
    "\n",
    "# only res4 here because default resnet config specifies\n",
    "cfg.MODEL.FPN.IN_FEATURES = ['res4']  \n",
    "\n",
    "fpn_backbone = build_resnet_fpn_backbone(cfg=cfg, input_shape=ShapeSpec(channels=3))\n",
    "\n",
    "type(fpn_backbone)"
   ]
  }
 ],
 "metadata": {
  "interpreter": {
   "hash": "9856ee9eadce783aaf38fe076aa1b4ecca5aa87977d5e143cf89536c4c10bc0a"
  },
  "kernelspec": {
   "display_name": "Python 3.9.7 (conda)",
   "language": "python",
   "name": "python3"
  },
  "language_info": {
   "codemirror_mode": {
    "name": "ipython",
    "version": 3
   },
   "file_extension": ".py",
   "mimetype": "text/x-python",
   "name": "python",
   "nbconvert_exporter": "python",
   "pygments_lexer": "ipython3",
   "version": "3.9.7"
  },
  "orig_nbformat": 4
 },
 "nbformat": 4,
 "nbformat_minor": 2
}
