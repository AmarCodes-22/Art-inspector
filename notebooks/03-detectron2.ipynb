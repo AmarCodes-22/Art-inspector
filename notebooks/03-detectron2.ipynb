{
 "cells": [
  {
   "cell_type": "markdown",
   "metadata": {},
   "source": [
    "# Default config"
   ]
  },
  {
   "cell_type": "markdown",
   "metadata": {},
   "source": [
    "## ResNet"
   ]
  },
  {
   "cell_type": "code",
   "execution_count": 20,
   "metadata": {},
   "outputs": [
    {
     "data": {
      "text/plain": [
       "detectron2.modeling.backbone.resnet.ResNet"
      ]
     },
     "execution_count": 20,
     "metadata": {},
     "output_type": "execute_result"
    }
   ],
   "source": [
    "from detectron2.config import get_cfg\n",
    "from detectron2.modeling import build_resnet_backbone\n",
    "from detectron2.layers import ShapeSpec\n",
    "\n",
    "# loads default config\n",
    "cfg = get_cfg()\n",
    "\n",
    "resnet_backbone = build_resnet_backbone(cfg=cfg, input_shape=ShapeSpec(channels=3))\n",
    "\n",
    "type(resnet_backbone)"
   ]
  },
  {
   "cell_type": "code",
   "execution_count": 22,
   "metadata": {},
   "outputs": [
    {
     "name": "stdout",
     "output_type": "stream",
     "text": [
      "res4 <class 'torch.Tensor'> torch.Size([1, 1024, 16, 16])\n"
     ]
    }
   ],
   "source": [
    "import torch\n",
    "\n",
    "dummy_in = torch.zeros((1, 3, 256, 256))\n",
    "dummy_out = resnet_backbone(dummy_in)  # returns a dict[str -> torch.Tensor]\n",
    "\n",
    "# only res4 here because specified in default config\n",
    "for k, v in dummy_out.items():\n",
    "    print(k, type(v), v.shape)"
   ]
  },
  {
   "cell_type": "markdown",
   "metadata": {},
   "source": [
    "## FPN"
   ]
  },
  {
   "cell_type": "code",
   "execution_count": 23,
   "metadata": {},
   "outputs": [
    {
     "data": {
      "text/plain": [
       "detectron2.modeling.backbone.fpn.FPN"
      ]
     },
     "execution_count": 23,
     "metadata": {},
     "output_type": "execute_result"
    }
   ],
   "source": [
    "from detectron2.modeling.backbone.fpn import build_resnet_fpn_backbone\n",
    "\n",
    "cfg = get_cfg()\n",
    "\n",
    "# make changes to the default config\n",
    "# (for some reason it must contain \"res5\", ie features after last stage)\n",
    "cfg.MODEL.RESNETS.OUT_FEATURES = ['res3', 'res4', 'res5']\n",
    "cfg.MODEL.FPN.IN_FEATURES = ['res3', 'res4', 'res5']\n",
    "\n",
    "fpn_backbone = build_resnet_fpn_backbone(cfg=cfg, input_shape=ShapeSpec(channels=3))\n",
    "\n",
    "type(fpn_backbone)"
   ]
  },
  {
   "cell_type": "code",
   "execution_count": 24,
   "metadata": {},
   "outputs": [
    {
     "name": "stdout",
     "output_type": "stream",
     "text": [
      "p3 <class 'torch.Tensor'> torch.Size([2, 256, 32, 32])\n",
      "p4 <class 'torch.Tensor'> torch.Size([2, 256, 16, 16])\n",
      "p5 <class 'torch.Tensor'> torch.Size([2, 256, 8, 8])\n",
      "p6 <class 'torch.Tensor'> torch.Size([2, 256, 4, 4])\n"
     ]
    }
   ],
   "source": [
    "dummy_in = torch.zeros((1, 3, 256, 256))\n",
    "dummy_out = fpn_backbone(dummy_in)\n",
    "\n",
    "for k,v in fpn_out.items():\n",
    "    print(k, type(v), v.shape)"
   ]
  },
  {
   "cell_type": "markdown",
   "metadata": {},
   "source": [
    "# Custom config"
   ]
  },
  {
   "cell_type": "markdown",
   "metadata": {},
   "source": [
    "## Saving and loading a config"
   ]
  },
  {
   "cell_type": "code",
   "execution_count": 26,
   "metadata": {},
   "outputs": [],
   "source": [
    "# first let's save default config to disk\n",
    "import os\n",
    "from pathlib import Path\n",
    "\n",
    "default_config = get_cfg()\n",
    "\n",
    "configs_dir = os.path.join(Path(os.path.abspath('')).parent, 'configs')\n",
    "default_config_fname = os.path.join(configs_dir, 'detectron_default_config.yaml')\n",
    "\n",
    "with open(default_config_fname, 'w') as f:\n",
    "    f.write(default_config.dump())"
   ]
  },
  {
   "cell_type": "code",
   "execution_count": 27,
   "metadata": {},
   "outputs": [
    {
     "data": {
      "text/plain": [
       "dict"
      ]
     },
     "execution_count": 27,
     "metadata": {},
     "output_type": "execute_result"
    }
   ],
   "source": [
    "# load back config from disk\n",
    "from detectron2.config import CfgNode\n",
    "\n",
    "# loads the config as a dict\n",
    "default_config_dict = CfgNode.load_yaml_with_base(filename=default_config_fname)\n",
    "type(default_config_dict)"
   ]
  },
  {
   "cell_type": "code",
   "execution_count": 28,
   "metadata": {},
   "outputs": [
    {
     "data": {
      "text/plain": [
       "detectron2.config.config.CfgNode"
      ]
     },
     "execution_count": 28,
     "metadata": {},
     "output_type": "execute_result"
    }
   ],
   "source": [
    "# convert dict to CfgNode\n",
    "default_config_loaded = CfgNode(init_dict=default_config_dict)\n",
    "type(default_config_loaded)"
   ]
  }
 ],
 "metadata": {
  "interpreter": {
   "hash": "9856ee9eadce783aaf38fe076aa1b4ecca5aa87977d5e143cf89536c4c10bc0a"
  },
  "kernelspec": {
   "display_name": "Python 3.9.7 (conda)",
   "language": "python",
   "name": "python3"
  },
  "language_info": {
   "codemirror_mode": {
    "name": "ipython",
    "version": 3
   },
   "file_extension": ".py",
   "mimetype": "text/x-python",
   "name": "python",
   "nbconvert_exporter": "python",
   "pygments_lexer": "ipython3",
   "version": "3.9.7"
  },
  "orig_nbformat": 4
 },
 "nbformat": 4,
 "nbformat_minor": 2
}
