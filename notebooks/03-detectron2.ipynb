{
 "cells": [
  {
   "cell_type": "markdown",
   "metadata": {},
   "source": [
    "# Making models using Default config"
   ]
  },
  {
   "cell_type": "markdown",
   "metadata": {},
   "source": [
    "## ResNet"
   ]
  },
  {
   "cell_type": "code",
   "execution_count": 1,
   "metadata": {},
   "outputs": [
    {
     "name": "stdout",
     "output_type": "stream",
     "text": [
      "======================================================================\n",
      "Layer (type:depth-idx)                        Param #\n",
      "======================================================================\n",
      "ResNet                                        --\n",
      "├─BasicStem: 1-1                              --\n",
      "│    └─Conv2d: 2-1                            --\n",
      "│    │    └─FrozenBatchNorm2d: 3-1            --\n",
      "├─Sequential: 1-2                             --\n",
      "│    └─BottleneckBlock: 2-2                   --\n",
      "│    │    └─Conv2d: 3-2                       (16,384)\n",
      "│    │    └─Conv2d: 3-3                       (4,096)\n",
      "│    │    └─Conv2d: 3-4                       (36,864)\n",
      "│    │    └─Conv2d: 3-5                       (16,384)\n",
      "│    └─BottleneckBlock: 2-3                   --\n",
      "│    │    └─Conv2d: 3-6                       (16,384)\n",
      "│    │    └─Conv2d: 3-7                       (36,864)\n",
      "│    │    └─Conv2d: 3-8                       (16,384)\n",
      "│    └─BottleneckBlock: 2-4                   --\n",
      "│    │    └─Conv2d: 3-9                       (16,384)\n",
      "│    │    └─Conv2d: 3-10                      (36,864)\n",
      "│    │    └─Conv2d: 3-11                      (16,384)\n",
      "├─Sequential: 1-3                             --\n",
      "│    └─BottleneckBlock: 2-5                   --\n",
      "│    │    └─Conv2d: 3-12                      131,072\n",
      "│    │    └─Conv2d: 3-13                      32,768\n",
      "│    │    └─Conv2d: 3-14                      147,456\n",
      "│    │    └─Conv2d: 3-15                      65,536\n",
      "│    └─BottleneckBlock: 2-6                   --\n",
      "│    │    └─Conv2d: 3-16                      65,536\n",
      "│    │    └─Conv2d: 3-17                      147,456\n",
      "│    │    └─Conv2d: 3-18                      65,536\n",
      "│    └─BottleneckBlock: 2-7                   --\n",
      "│    │    └─Conv2d: 3-19                      65,536\n",
      "│    │    └─Conv2d: 3-20                      147,456\n",
      "│    │    └─Conv2d: 3-21                      65,536\n",
      "│    └─BottleneckBlock: 2-8                   --\n",
      "│    │    └─Conv2d: 3-22                      65,536\n",
      "│    │    └─Conv2d: 3-23                      147,456\n",
      "│    │    └─Conv2d: 3-24                      65,536\n",
      "├─Sequential: 1-4                             --\n",
      "│    └─BottleneckBlock: 2-9                   --\n",
      "│    │    └─Conv2d: 3-25                      524,288\n",
      "│    │    └─Conv2d: 3-26                      131,072\n",
      "│    │    └─Conv2d: 3-27                      589,824\n",
      "│    │    └─Conv2d: 3-28                      262,144\n",
      "│    └─BottleneckBlock: 2-10                  --\n",
      "│    │    └─Conv2d: 3-29                      262,144\n",
      "│    │    └─Conv2d: 3-30                      589,824\n",
      "│    │    └─Conv2d: 3-31                      262,144\n",
      "│    └─BottleneckBlock: 2-11                  --\n",
      "│    │    └─Conv2d: 3-32                      262,144\n",
      "│    │    └─Conv2d: 3-33                      589,824\n",
      "│    │    └─Conv2d: 3-34                      262,144\n",
      "│    └─BottleneckBlock: 2-12                  --\n",
      "│    │    └─Conv2d: 3-35                      262,144\n",
      "│    │    └─Conv2d: 3-36                      589,824\n",
      "│    │    └─Conv2d: 3-37                      262,144\n",
      "│    └─BottleneckBlock: 2-13                  --\n",
      "│    │    └─Conv2d: 3-38                      262,144\n",
      "│    │    └─Conv2d: 3-39                      589,824\n",
      "│    │    └─Conv2d: 3-40                      262,144\n",
      "│    └─BottleneckBlock: 2-14                  --\n",
      "│    │    └─Conv2d: 3-41                      262,144\n",
      "│    │    └─Conv2d: 3-42                      589,824\n",
      "│    │    └─Conv2d: 3-43                      262,144\n",
      "======================================================================\n",
      "Total params: 0\n",
      "Trainable params: 0\n",
      "Non-trainable params: 0\n",
      "======================================================================\n"
     ]
    },
    {
     "data": {
      "text/plain": [
       "detectron2.modeling.backbone.resnet.ResNet"
      ]
     },
     "execution_count": 1,
     "metadata": {},
     "output_type": "execute_result"
    }
   ],
   "source": [
    "from detectron2.config import get_cfg\n",
    "from detectron2.modeling import build_resnet_backbone\n",
    "from detectron2.layers import ShapeSpec\n",
    "from torchinfo import summary\n",
    "\n",
    "# loads default config\n",
    "cfg = get_cfg()\n",
    "\n",
    "default_resnet_backbone = build_resnet_backbone(cfg=cfg, input_shape=ShapeSpec(channels=3))\n",
    "\n",
    "print(summary(default_resnet_backbone))\n",
    "type(default_resnet_backbone)"
   ]
  },
  {
   "cell_type": "code",
   "execution_count": 2,
   "metadata": {},
   "outputs": [
    {
     "name": "stdout",
     "output_type": "stream",
     "text": [
      "res4 <class 'torch.Tensor'> torch.Size([1, 1024, 16, 16])\n"
     ]
    }
   ],
   "source": [
    "import torch\n",
    "\n",
    "dummy_in = torch.zeros((1, 3, 256, 256))\n",
    "default_resnet_backbone_out = default_resnet_backbone(dummy_in)  # returns a dict[str -> torch.Tensor]\n",
    "\n",
    "# only res4 here because specified in default config\n",
    "for k, v in default_resnet_backbone_out.items():\n",
    "    print(k, type(v), v.shape)"
   ]
  },
  {
   "cell_type": "markdown",
   "metadata": {},
   "source": [
    "## FPN"
   ]
  },
  {
   "cell_type": "code",
   "execution_count": 3,
   "metadata": {},
   "outputs": [
    {
     "data": {
      "text/plain": [
       "detectron2.modeling.backbone.fpn.FPN"
      ]
     },
     "execution_count": 3,
     "metadata": {},
     "output_type": "execute_result"
    }
   ],
   "source": [
    "from detectron2.modeling.backbone.fpn import build_resnet_fpn_backbone\n",
    "\n",
    "cfg = get_cfg()\n",
    "\n",
    "# make changes to the default config\n",
    "# for some reason(which i don't understand yet) it must contain \"res5\", ie features after last stage\n",
    "cfg.MODEL.RESNETS.OUT_FEATURES = [\"res3\", \"res4\", \"res5\"]\n",
    "cfg.MODEL.FPN.IN_FEATURES = [\"res3\", \"res4\", \"res5\"]\n",
    "\n",
    "default_fpn_backbone = build_resnet_fpn_backbone(cfg=cfg, input_shape=ShapeSpec(channels=3))\n",
    "\n",
    "type(default_fpn_backbone)"
   ]
  },
  {
   "cell_type": "code",
   "execution_count": 4,
   "metadata": {},
   "outputs": [
    {
     "name": "stdout",
     "output_type": "stream",
     "text": [
      "p3 <class 'torch.Tensor'> torch.Size([1, 256, 32, 32])\n",
      "p4 <class 'torch.Tensor'> torch.Size([1, 256, 16, 16])\n",
      "p5 <class 'torch.Tensor'> torch.Size([1, 256, 8, 8])\n",
      "p6 <class 'torch.Tensor'> torch.Size([1, 256, 4, 4])\n"
     ]
    }
   ],
   "source": [
    "dummy_in = torch.zeros((1, 3, 256, 256))\n",
    "default_fpn_backbone_out = default_fpn_backbone(dummy_in)\n",
    "\n",
    "for k,v in default_fpn_backbone_out.items():\n",
    "    print(k, type(v), v.shape)"
   ]
  },
  {
   "cell_type": "markdown",
   "metadata": {},
   "source": [
    "# Making models using Custom config\n",
    "Use detectron's implementation of fpn and resnet to make our own"
   ]
  },
  {
   "cell_type": "markdown",
   "metadata": {},
   "source": [
    "## Saving and loading a config"
   ]
  },
  {
   "cell_type": "code",
   "execution_count": 5,
   "metadata": {},
   "outputs": [],
   "source": [
    "# first let's save default config to disk\n",
    "import os\n",
    "from pathlib import Path\n",
    "\n",
    "default_config = get_cfg()\n",
    "\n",
    "configs_dir = os.path.join(Path(os.path.abspath('')).parent, 'configs')\n",
    "default_config_fname = os.path.join(configs_dir, 'detectron_default.yaml')\n",
    "\n",
    "with open(default_config_fname, 'w') as f:\n",
    "    f.write(default_config.dump())"
   ]
  },
  {
   "cell_type": "code",
   "execution_count": 6,
   "metadata": {},
   "outputs": [
    {
     "name": "stdout",
     "output_type": "stream",
     "text": [
      "<class 'dict'>\n",
      "<class 'detectron2.config.config.CfgNode'>\n"
     ]
    }
   ],
   "source": [
    "# load back config from disk\n",
    "from detectron2.config import CfgNode\n",
    "\n",
    "# loads the config as a dict\n",
    "default_config_dict = CfgNode.load_yaml_with_base(filename=default_config_fname)\n",
    "print(type(default_config_dict))\n",
    "\n",
    "# convert dict to CfgNode\n",
    "default_config_loaded = CfgNode(init_dict=default_config_dict)\n",
    "print(type(default_config_loaded))"
   ]
  },
  {
   "cell_type": "code",
   "execution_count": 7,
   "metadata": {},
   "outputs": [
    {
     "data": {
      "text/plain": [
       "detectron2.config.config.CfgNode"
      ]
     },
     "execution_count": 7,
     "metadata": {},
     "output_type": "execute_result"
    }
   ],
   "source": [
    "# make a func to load a config given filename\n",
    "def load_config(filename: str):\n",
    "    config_dict = CfgNode.load_yaml_with_base(filename=filename)\n",
    "    return CfgNode(init_dict=config_dict)\n",
    "\n",
    "\n",
    "type(load_config(default_config_fname))"
   ]
  },
  {
   "cell_type": "markdown",
   "metadata": {},
   "source": [
    "## ResNet using custom config"
   ]
  },
  {
   "cell_type": "code",
   "execution_count": 8,
   "metadata": {},
   "outputs": [
    {
     "data": {
      "text/plain": [
       "detectron2.modeling.backbone.resnet.ResNet"
      ]
     },
     "execution_count": 8,
     "metadata": {},
     "output_type": "execute_result"
    }
   ],
   "source": [
    "from detectron2.modeling.backbone.resnet import BasicBlock, BasicStem, ResNet\n",
    "from torch import nn\n",
    "\n",
    "resnet_custom_config_fname = os.path.join(Path(os.path.abspath('')).parent, 'configs', 'resnet.yaml')\n",
    "resnet_config = load_config(resnet_custom_config_fname)\n",
    "\n",
    "# this stem only supports R18/R34 for now\n",
    "def build_resnet(cfg):\n",
    "    \"\"\"Create a resnet instance from config \"\"\"\n",
    "\n",
    "    resnet_stem = BasicStem()\n",
    "\n",
    "    depth = cfg.MODEL.RESNET.DEPTH\n",
    "    out_features = cfg.MODEL.RESNET.OUT_FEATURES\n",
    "\n",
    "    in_channels = cfg.MODEL.RESNET.STEM_OUT_CHANNELS\n",
    "    out_channels = cfg.MODEL.RESNET.RES2_OUT_CHANNELS\n",
    "\n",
    "    num_blocks_per_stage = {\n",
    "        18: [2, 2, 2, 2],\n",
    "        34: [3, 4, 6, 3],\n",
    "        50: [3, 4, 6, 3],\n",
    "        101: [3, 4, 23, 3],\n",
    "        152: [3, 8, 36, 3],\n",
    "    }[depth]\n",
    "\n",
    "    assert out_channels == 64, \"Must set MODELS.RESNET.RES2_OUT_CHANNELS = 64 for R18/R34\"\n",
    "\n",
    "    stages = []\n",
    "\n",
    "    for idx, stage_idx in enumerate(range(2,  6)):\n",
    "        first_stride = 1 if idx == 0 else 2\n",
    "        stage_kargs = {\n",
    "            \"num_blocks\": num_blocks_per_stage[idx],\n",
    "            \"stride_per_block\": [first_stride] + [1] * (num_blocks_per_stage[idx] - 1),\n",
    "            \"in_channels\": in_channels,\n",
    "            \"out_channels\": out_channels\n",
    "        }\n",
    "\n",
    "        if depth in {18, 34}:  # always true for now, changes for bigger models\n",
    "            stage_kargs['block_class'] = BasicBlock\n",
    "\n",
    "        blocks = ResNet.make_stage(**stage_kargs)\n",
    "\n",
    "        in_channels = out_channels\n",
    "        out_channels *= 2\n",
    "\n",
    "        stages.append(blocks)\n",
    "\n",
    "    CNN = ResNet(\n",
    "        stem=resnet_stem,\n",
    "        stages=stages,\n",
    "        out_features=out_features\n",
    "    )\n",
    "\n",
    "    return CNN\n",
    "\n",
    "\n",
    "resnet_backbone = build_resnet(cfg=resnet_config)\n",
    "type(resnet_backbone)"
   ]
  },
  {
   "cell_type": "code",
   "execution_count": 9,
   "metadata": {},
   "outputs": [
    {
     "name": "stdout",
     "output_type": "stream",
     "text": [
      "===================================================================================================================\n",
      "Layer (type:depth-idx)                   Output Shape              Param #                   Kernel Shape\n",
      "===================================================================================================================\n",
      "ResNet                                   --                        --                        --\n",
      "├─BasicStem: 1-1                         [1, 64, 64, 64]           --                        --\n",
      "│    └─Conv2d: 2-1                       [1, 64, 128, 128]         --                        [3, 64, 7, 7]\n",
      "│    │    └─BatchNorm2d: 3-1             [1, 64, 128, 128]         128                       [64]\n",
      "├─Sequential: 1-2                        [1, 64, 64, 64]           --                        --\n",
      "│    └─BasicBlock: 2-2                   [1, 64, 64, 64]           --                        --\n",
      "│    │    └─Conv2d: 3-2                  [1, 64, 64, 64]           36,992                    [64, 64, 3, 3]\n",
      "│    │    └─Conv2d: 3-3                  [1, 64, 64, 64]           36,992                    [64, 64, 3, 3]\n",
      "│    └─BasicBlock: 2-3                   [1, 64, 64, 64]           --                        --\n",
      "│    │    └─Conv2d: 3-4                  [1, 64, 64, 64]           36,992                    [64, 64, 3, 3]\n",
      "│    │    └─Conv2d: 3-5                  [1, 64, 64, 64]           36,992                    [64, 64, 3, 3]\n",
      "├─Sequential: 1-3                        [1, 128, 32, 32]          --                        --\n",
      "│    └─BasicBlock: 2-4                   [1, 128, 32, 32]          --                        --\n",
      "│    │    └─Conv2d: 3-6                  [1, 128, 32, 32]          73,984                    [64, 128, 3, 3]\n",
      "│    │    └─Conv2d: 3-7                  [1, 128, 32, 32]          147,712                   [128, 128, 3, 3]\n",
      "│    │    └─Conv2d: 3-8                  [1, 128, 32, 32]          8,448                     [64, 128, 1, 1]\n",
      "│    └─BasicBlock: 2-5                   [1, 128, 32, 32]          --                        --\n",
      "│    │    └─Conv2d: 3-9                  [1, 128, 32, 32]          147,712                   [128, 128, 3, 3]\n",
      "│    │    └─Conv2d: 3-10                 [1, 128, 32, 32]          147,712                   [128, 128, 3, 3]\n",
      "├─Sequential: 1-4                        [1, 256, 16, 16]          --                        --\n",
      "│    └─BasicBlock: 2-6                   [1, 256, 16, 16]          --                        --\n",
      "│    │    └─Conv2d: 3-11                 [1, 256, 16, 16]          295,424                   [128, 256, 3, 3]\n",
      "│    │    └─Conv2d: 3-12                 [1, 256, 16, 16]          590,336                   [256, 256, 3, 3]\n",
      "│    │    └─Conv2d: 3-13                 [1, 256, 16, 16]          33,280                    [128, 256, 1, 1]\n",
      "│    └─BasicBlock: 2-7                   [1, 256, 16, 16]          --                        --\n",
      "│    │    └─Conv2d: 3-14                 [1, 256, 16, 16]          590,336                   [256, 256, 3, 3]\n",
      "│    │    └─Conv2d: 3-15                 [1, 256, 16, 16]          590,336                   [256, 256, 3, 3]\n",
      "├─Sequential: 1-5                        [1, 512, 8, 8]            --                        --\n",
      "│    └─BasicBlock: 2-8                   [1, 512, 8, 8]            --                        --\n",
      "│    │    └─Conv2d: 3-16                 [1, 512, 8, 8]            1,180,672                 [256, 512, 3, 3]\n",
      "│    │    └─Conv2d: 3-17                 [1, 512, 8, 8]            2,360,320                 [512, 512, 3, 3]\n",
      "│    │    └─Conv2d: 3-18                 [1, 512, 8, 8]            132,096                   [256, 512, 1, 1]\n",
      "│    └─BasicBlock: 2-9                   [1, 512, 8, 8]            --                        --\n",
      "│    │    └─Conv2d: 3-19                 [1, 512, 8, 8]            2,360,320                 [512, 512, 3, 3]\n",
      "│    │    └─Conv2d: 3-20                 [1, 512, 8, 8]            2,360,320                 [512, 512, 3, 3]\n",
      "===================================================================================================================\n",
      "Total params: 9,600\n",
      "Trainable params: 9,600\n",
      "Non-trainable params: 0\n",
      "Total mult-adds (M): 0.01\n",
      "===================================================================================================================\n",
      "Input size (MB): 0.79\n",
      "Forward/backward pass size (MB): 25.95\n",
      "Params size (MB): 0.04\n",
      "Estimated Total Size (MB): 26.78\n",
      "===================================================================================================================\n",
      "res4 <class 'torch.Tensor'> torch.Size([1, 256, 16, 16])\n",
      "res5 <class 'torch.Tensor'> torch.Size([1, 512, 8, 8])\n"
     ]
    }
   ],
   "source": [
    "from torchinfo import summary\n",
    "\n",
    "print(summary(resnet_backbone, input_size=(1, 3, 256, 256), col_names=['output_size', 'num_params', 'kernel_size']))\n",
    "\n",
    "dummy_in = torch.zeros((1, 3, 256, 256))\n",
    "dummy_out = resnet_backbone(dummy_in)\n",
    "\n",
    "for k, v in dummy_out.items():\n",
    "    print(k, type(v), v.shape)"
   ]
  },
  {
   "cell_type": "markdown",
   "metadata": {},
   "source": [
    "## Join Resnet backbone with branches"
   ]
  },
  {
   "cell_type": "code",
   "execution_count": 10,
   "metadata": {},
   "outputs": [
    {
     "name": "stdout",
     "output_type": "stream",
     "text": [
      "torch.Size([1, 512])\n",
      "torch.Size([1, 10]) torch.Size([1, 10]) torch.Size([1, 10])\n"
     ]
    }
   ],
   "source": [
    "def build_bottom_up(backbone):\n",
    "    # dummy forward function of the stem\n",
    "    dummy_in = torch.zeros((1, 3, 256, 256))\n",
    "    backbone_cnn_features = backbone(dummy_in)\n",
    "\n",
    "    adaptive_pool_layer = nn.AdaptiveAvgPool2d((1, 1))\n",
    "    backbone_out = torch.flatten(adaptive_pool_layer(backbone_cnn_features['res5']), 1)\n",
    "    print(backbone_out.size())\n",
    "\n",
    "    branch1 = nn.Linear(in_features=512, out_features=10)\n",
    "    branch2 = nn.Linear(in_features=512, out_features=10)\n",
    "    branch3 = nn.Linear(in_features=512, out_features=10)\n",
    "\n",
    "    branch1_out = branch1(backbone_out)\n",
    "    branch2_out = branch2(backbone_out)\n",
    "    branch3_out = branch3(backbone_out)\n",
    "\n",
    "    print(branch1_out.size(), branch2_out.size(), branch3_out.size())\n",
    "\n",
    "\n",
    "build_bottom_up(backbone=resnet_backbone)"
   ]
  },
  {
   "cell_type": "markdown",
   "metadata": {},
   "source": [
    "## Build FPN using our resnet backbone"
   ]
  },
  {
   "cell_type": "code",
   "execution_count": 12,
   "metadata": {},
   "outputs": [
    {
     "data": {
      "text/plain": [
       "detectron2.modeling.backbone.fpn.FPN"
      ]
     },
     "execution_count": 12,
     "metadata": {},
     "output_type": "execute_result"
    }
   ],
   "source": [
    "from detectron2.modeling.backbone.fpn import FPN, LastLevelMaxPool\n",
    "\n",
    "def build_fpn(cfg):\n",
    "    resnet_backbone = build_resnet(cfg)\n",
    "\n",
    "    in_features = cfg.MODEL.FPN.IN_FEATURES\n",
    "    out_channels = cfg.MODEL.FPN.OUT_CHANNELS\n",
    "\n",
    "    fpn = FPN(\n",
    "        bottom_up=resnet_backbone,\n",
    "        in_features=in_features,\n",
    "        out_channels=out_channels,\n",
    "        top_block=LastLevelMaxPool()\n",
    "    )\n",
    "\n",
    "    return fpn\n",
    "\n",
    "\n",
    "resnet_config = load_config(resnet_custom_config_fname)\n",
    "my_fpn = build_fpn(resnet_config)\n",
    "type(my_fpn)"
   ]
  },
  {
   "cell_type": "code",
   "execution_count": 13,
   "metadata": {},
   "outputs": [
    {
     "name": "stdout",
     "output_type": "stream",
     "text": [
      "p4 <class 'torch.Tensor'> torch.Size([1, 128, 16, 16])\n",
      "p5 <class 'torch.Tensor'> torch.Size([1, 128, 8, 8])\n",
      "p6 <class 'torch.Tensor'> torch.Size([1, 128, 4, 4])\n"
     ]
    }
   ],
   "source": [
    "dummy_in = torch.zeros((1, 3, 256, 256))\n",
    "dummy_out = my_fpn(dummy_in)\n",
    "\n",
    "for k, v in dummy_out.items():\n",
    "    print(k, type(v), v.shape)"
   ]
  }
 ],
 "metadata": {
  "interpreter": {
   "hash": "9856ee9eadce783aaf38fe076aa1b4ecca5aa87977d5e143cf89536c4c10bc0a"
  },
  "kernelspec": {
   "display_name": "Python 3.9.7 (conda)",
   "language": "python",
   "name": "python3"
  },
  "language_info": {
   "codemirror_mode": {
    "name": "ipython",
    "version": 3
   },
   "file_extension": ".py",
   "mimetype": "text/x-python",
   "name": "python",
   "nbconvert_exporter": "python",
   "pygments_lexer": "ipython3",
   "version": "3.9.7"
  },
  "orig_nbformat": 4
 },
 "nbformat": 4,
 "nbformat_minor": 2
}
