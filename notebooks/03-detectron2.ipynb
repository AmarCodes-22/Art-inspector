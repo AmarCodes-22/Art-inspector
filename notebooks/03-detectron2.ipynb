{
 "cells": [
  {
   "cell_type": "markdown",
   "metadata": {},
   "source": [
    "# Making models using Default config"
   ]
  },
  {
   "cell_type": "markdown",
   "metadata": {},
   "source": [
    "## ResNet"
   ]
  },
  {
   "cell_type": "code",
   "execution_count": 1,
   "metadata": {},
   "outputs": [
    {
     "data": {
      "text/plain": [
       "detectron2.modeling.backbone.resnet.ResNet"
      ]
     },
     "execution_count": 1,
     "metadata": {},
     "output_type": "execute_result"
    }
   ],
   "source": [
    "from detectron2.config import get_cfg\n",
    "from detectron2.modeling import build_resnet_backbone\n",
    "from detectron2.layers import ShapeSpec\n",
    "\n",
    "# loads default config\n",
    "cfg = get_cfg()\n",
    "\n",
    "resnet_backbone = build_resnet_backbone(cfg=cfg, input_shape=ShapeSpec(channels=3))\n",
    "\n",
    "type(resnet_backbone)"
   ]
  },
  {
   "cell_type": "code",
   "execution_count": 2,
   "metadata": {},
   "outputs": [
    {
     "name": "stdout",
     "output_type": "stream",
     "text": [
      "res4 <class 'torch.Tensor'> torch.Size([1, 1024, 16, 16])\n"
     ]
    }
   ],
   "source": [
    "import torch\n",
    "\n",
    "dummy_in = torch.zeros((1, 3, 256, 256))\n",
    "dummy_out = resnet_backbone(dummy_in)  # returns a dict[str -> torch.Tensor]\n",
    "\n",
    "# only res4 here because specified in default config\n",
    "for k, v in dummy_out.items():\n",
    "    print(k, type(v), v.shape)"
   ]
  },
  {
   "cell_type": "markdown",
   "metadata": {},
   "source": [
    "## FPN"
   ]
  },
  {
   "cell_type": "code",
   "execution_count": 3,
   "metadata": {},
   "outputs": [
    {
     "data": {
      "text/plain": [
       "detectron2.modeling.backbone.fpn.FPN"
      ]
     },
     "execution_count": 3,
     "metadata": {},
     "output_type": "execute_result"
    }
   ],
   "source": [
    "from detectron2.modeling.backbone.fpn import build_resnet_fpn_backbone\n",
    "\n",
    "cfg = get_cfg()\n",
    "\n",
    "# make changes to the default config\n",
    "# (for some reason it must contain \"res5\", ie features after last stage)\n",
    "cfg.MODEL.RESNETS.OUT_FEATURES = ['res3', 'res4', 'res5']\n",
    "cfg.MODEL.FPN.IN_FEATURES = ['res3', 'res4', 'res5']\n",
    "\n",
    "fpn_backbone = build_resnet_fpn_backbone(cfg=cfg, input_shape=ShapeSpec(channels=3))\n",
    "\n",
    "type(fpn_backbone)"
   ]
  },
  {
   "cell_type": "code",
   "execution_count": 4,
   "metadata": {},
   "outputs": [
    {
     "name": "stdout",
     "output_type": "stream",
     "text": [
      "p3 <class 'torch.Tensor'> torch.Size([1, 256, 32, 32])\n",
      "p4 <class 'torch.Tensor'> torch.Size([1, 256, 16, 16])\n",
      "p5 <class 'torch.Tensor'> torch.Size([1, 256, 8, 8])\n",
      "p6 <class 'torch.Tensor'> torch.Size([1, 256, 4, 4])\n"
     ]
    }
   ],
   "source": [
    "dummy_in = torch.zeros((1, 3, 256, 256))\n",
    "dummy_out = fpn_backbone(dummy_in)\n",
    "\n",
    "for k,v in dummy_out.items():\n",
    "    print(k, type(v), v.shape)"
   ]
  },
  {
   "cell_type": "markdown",
   "metadata": {},
   "source": [
    "# Custom config"
   ]
  },
  {
   "cell_type": "markdown",
   "metadata": {},
   "source": [
    "## Saving and loading a config"
   ]
  },
  {
   "cell_type": "code",
   "execution_count": 5,
   "metadata": {},
   "outputs": [],
   "source": [
    "# first let's save default config to disk\n",
    "import os\n",
    "from pathlib import Path\n",
    "\n",
    "default_config = get_cfg()\n",
    "\n",
    "configs_dir = os.path.join(Path(os.path.abspath('')).parent, 'configs')\n",
    "default_config_fname = os.path.join(configs_dir, 'detectron_default.yaml')\n",
    "\n",
    "with open(default_config_fname, 'w') as f:\n",
    "    f.write(default_config.dump())"
   ]
  },
  {
   "cell_type": "code",
   "execution_count": 6,
   "metadata": {},
   "outputs": [
    {
     "data": {
      "text/plain": [
       "dict"
      ]
     },
     "execution_count": 6,
     "metadata": {},
     "output_type": "execute_result"
    }
   ],
   "source": [
    "# load back config from disk\n",
    "from detectron2.config import CfgNode\n",
    "\n",
    "# loads the config as a dict\n",
    "default_config_dict = CfgNode.load_yaml_with_base(filename=default_config_fname)\n",
    "type(default_config_dict)"
   ]
  },
  {
   "cell_type": "code",
   "execution_count": 7,
   "metadata": {},
   "outputs": [
    {
     "data": {
      "text/plain": [
       "detectron2.config.config.CfgNode"
      ]
     },
     "execution_count": 7,
     "metadata": {},
     "output_type": "execute_result"
    }
   ],
   "source": [
    "# convert dict to CfgNode\n",
    "default_config_loaded = CfgNode(init_dict=default_config_dict)\n",
    "type(default_config_loaded)"
   ]
  },
  {
   "cell_type": "code",
   "execution_count": 8,
   "metadata": {},
   "outputs": [
    {
     "data": {
      "text/plain": [
       "detectron2.config.config.CfgNode"
      ]
     },
     "execution_count": 8,
     "metadata": {},
     "output_type": "execute_result"
    }
   ],
   "source": [
    "# make a func to load a config given filename\n",
    "def load_config(filename: str):\n",
    "    config_dict = CfgNode.load_yaml_with_base(filename=filename)\n",
    "    return CfgNode(init_dict=config_dict)\n",
    "\n",
    "type(load_config(default_config_fname))"
   ]
  },
  {
   "cell_type": "markdown",
   "metadata": {},
   "source": [
    "## Make ResNet model with custom config\n",
    "Use detectron's implementation of fpn and resnet to make our own"
   ]
  },
  {
   "cell_type": "code",
   "execution_count": 9,
   "metadata": {},
   "outputs": [],
   "source": [
    "resnet_custom_config_fname = os.path.join(Path(os.path.abspath('')).parent, 'configs', 'resnet.yaml')\n",
    "resnet_config = load_config(resnet_custom_config_fname)"
   ]
  },
  {
   "cell_type": "code",
   "execution_count": 10,
   "metadata": {},
   "outputs": [
    {
     "data": {
      "text/plain": [
       "detectron2.modeling.backbone.resnet.ResNet"
      ]
     },
     "execution_count": 10,
     "metadata": {},
     "output_type": "execute_result"
    }
   ],
   "source": [
    "from detectron2.modeling.backbone.resnet import BasicBlock, BasicStem, ResNet\n",
    "from torch import nn\n",
    "\n",
    "# this stem only supports R18/R34 for now\n",
    "def build_stem(cfg, input_shape=None):\n",
    "    \"\"\"Create a resnet instance from config \"\"\"\n",
    "\n",
    "    resnet_stem = BasicStem()  # make basic stem\n",
    "    out_features = None  # make model return last stage features\n",
    "    depth = 18  # use predefined depth\n",
    "    in_channels = 64  # output channels after resnet_stem(BasicStem)\n",
    "    out_channels = 64  # output channels after first block\n",
    "\n",
    "    num_blocks_per_stage = {\n",
    "        18: [2, 2, 2, 2],\n",
    "        34: [3, 4, 6, 3],\n",
    "        50: [3, 4, 6, 3],\n",
    "        101: [3, 4, 23, 3],\n",
    "        152: [3, 8, 36, 3],\n",
    "    }[depth]\n",
    "\n",
    "    assert out_channels == 64, \"Must set MODELS.RESNETS.RES2_OUT_CHANNELS = 64 for R18/R34\"\n",
    "\n",
    "    stages = []\n",
    "\n",
    "    for idx, stage_idx in enumerate(range(2,  6)):\n",
    "        stage_kargs = {\n",
    "            \"num_blocks\": num_blocks_per_stage[idx],\n",
    "            'in_channels': in_channels,\n",
    "            'out_channels': out_channels\n",
    "        }\n",
    "\n",
    "        if depth in {18, 34}:  # always true for now, changes for bigger models\n",
    "            stage_kargs['block_class'] = BasicBlock\n",
    "\n",
    "        blocks = ResNet.make_stage(**stage_kargs)\n",
    "\n",
    "        in_channels = out_channels\n",
    "        out_channels *= 2\n",
    "\n",
    "        stages.append(blocks)\n",
    "\n",
    "    CNN = ResNet(\n",
    "        stem=resnet_stem,\n",
    "        stages=stages,\n",
    "        out_features=out_features\n",
    "    )\n",
    "\n",
    "    return CNN\n",
    "\n",
    "resnet_backbone = build_stem(cfg=resnet_config)\n",
    "type(resnet_backbone)"
   ]
  },
  {
   "cell_type": "code",
   "execution_count": 11,
   "metadata": {},
   "outputs": [
    {
     "name": "stdout",
     "output_type": "stream",
     "text": [
      "res5 <class 'torch.Tensor'> torch.Size([1, 512, 64, 64])\n"
     ]
    }
   ],
   "source": [
    "from torchinfo import summary\n",
    "\n",
    "summary(resnet_backbone, input_size=(1, 3, 256, 256))\n",
    "\n",
    "dummy_in = torch.zeros((1, 3, 256, 256))\n",
    "dummy_out = resnet_backbone(dummy_in)\n",
    "\n",
    "for k, v in dummy_out.items():\n",
    "    print(k, type(v), v.shape)"
   ]
  }
 ],
 "metadata": {
  "interpreter": {
   "hash": "9856ee9eadce783aaf38fe076aa1b4ecca5aa87977d5e143cf89536c4c10bc0a"
  },
  "kernelspec": {
   "display_name": "Python 3.9.7 (conda)",
   "language": "python",
   "name": "python3"
  },
  "language_info": {
   "codemirror_mode": {
    "name": "ipython",
    "version": 3
   },
   "file_extension": ".py",
   "mimetype": "text/x-python",
   "name": "python",
   "nbconvert_exporter": "python",
   "pygments_lexer": "ipython3",
   "version": "3.9.7"
  },
  "orig_nbformat": 4
 },
 "nbformat": 4,
 "nbformat_minor": 2
}
