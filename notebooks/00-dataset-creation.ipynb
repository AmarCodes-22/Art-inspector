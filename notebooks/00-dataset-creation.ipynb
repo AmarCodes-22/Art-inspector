{
  "cells": [
    {
      "cell_type": "code",
      "execution_count": null,
      "metadata": {},
      "outputs": [],
      "source": [
        "# this notebook is supposed to be run on colab"
      ]
    },
    {
      "cell_type": "markdown",
      "metadata": {
        "id": "EY1C6AsP3CbI"
      },
      "source": [
        "# Setup Kaggle API"
      ]
    },
    {
      "cell_type": "code",
      "execution_count": 1,
      "metadata": {
        "colab": {
          "base_uri": "https://localhost:8080/"
        },
        "id": "LBRJ_T5Q3KO1",
        "outputId": "a6baef68-d1ed-4de4-bd76-6a0936c5ba5a"
      },
      "outputs": [
        {
          "name": "stdout",
          "output_type": "stream",
          "text": [
            "Mounted at /content/drive\n"
          ]
        }
      ],
      "source": [
        "from google.colab import drive\n",
        "drive.mount('/content/drive')"
      ]
    },
    {
      "cell_type": "code",
      "execution_count": 2,
      "metadata": {
        "id": "zqhboc4o3PPs"
      },
      "outputs": [],
      "source": [
        "! mkdir ~/.kaggle\n",
        "! cp /content/drive/MyDrive/Kaggle/kaggle.json ~/.kaggle/kaggle.json\n",
        "! chmod 600 ~/.kaggle/kaggle.json"
      ]
    },
    {
      "cell_type": "markdown",
      "metadata": {
        "id": "4cAi1p4y39Ha"
      },
      "source": [
        "# Download meta data used to generate dataset\n",
        "The wikiart dataset wasn't balanced so we decided to generate our own dataset from a larger set of images from WikiArt.\n",
        "\n",
        "We use 2 datasets for creating ours -\n",
        "* Images taken from here - https://www.kaggle.com/c/painter-by-numbers/data\n",
        "* Categories taken from here - https://github.com/cs-chan/ArtGAN/tree/master/WikiArt%20Dataset\n",
        "\n",
        "\n",
        "\n",
        "Categories are based on Artist, Genre, Style"
      ]
    },
    {
      "cell_type": "markdown",
      "metadata": {
        "id": "UTI-0iKrYRSV"
      },
      "source": [
        "## Download classes from WikiArt"
      ]
    },
    {
      "cell_type": "code",
      "execution_count": 3,
      "metadata": {
        "id": "y50g51Ll5TY5"
      },
      "outputs": [],
      "source": [
        "# ! mkdir -p /content/data/classes"
      ]
    },
    {
      "cell_type": "code",
      "execution_count": 4,
      "metadata": {
        "id": "_GZ0Y2Gu4wYl"
      },
      "outputs": [],
      "source": [
        "# Get categories for artists, genres, styles\n",
        "# file_link = \"'https://drive.google.com/uc?export=download&id=1AuuWgyZnOB3mR8S7rXEVUrdzMTa6NaH1'\"\n",
        "# download_fpath = \"'/content/data/classes/wikiart_classes.zip'\"\n",
        "\n",
        "# ! wget --no-check-certificate $file_link -O $download_fpath"
      ]
    },
    {
      "cell_type": "code",
      "execution_count": 5,
      "metadata": {
        "id": "iTlH3NTB6fgA"
      },
      "outputs": [],
      "source": [
        "# ! unzip /content/data/classes/wikiart_classes.zip -d /content/data/classes/"
      ]
    },
    {
      "cell_type": "markdown",
      "metadata": {
        "id": "W1Yoxs3YYWcc"
      },
      "source": [
        "## Download files from painter-by-numbers"
      ]
    },
    {
      "cell_type": "code",
      "execution_count": 6,
      "metadata": {
        "colab": {
          "base_uri": "https://localhost:8080/"
        },
        "id": "OUkf454a6aK8",
        "outputId": "d17032b0-ff5a-4fdb-906b-6838e89c6b2a"
      },
      "outputs": [
        {
          "name": "stdout",
          "output_type": "stream",
          "text": [
            "Warning: Looks like you're using an outdated API Version, please consider updating (server 1.5.12 / client 1.5.4)\n",
            "name                                   size  creationDate         \n",
            "------------------------------------  -----  -------------------  \n",
            "train_7.zip                             4GB  2019-12-16 02:56:13  \n",
            "train_2.zip                             4GB  2019-12-16 02:56:13  \n",
            "train.zip                              36GB  2019-12-16 02:56:13  \n",
            "train_5.zip                             4GB  2019-12-16 02:56:13  \n",
            "solution_painter.csv                  261MB  2019-12-16 02:56:13  \n",
            "train_6.zip                             4GB  2019-12-16 02:56:13  \n",
            "train_4.zip                             4GB  2019-12-16 02:56:13  \n",
            "test.zip                               11GB  2019-12-16 02:56:13  \n",
            "train_3.zip                             4GB  2019-12-16 02:56:13  \n",
            "sampleSubmission.csv                  261MB  2019-12-16 02:56:13  \n",
            "all_data_info.csv                      13MB  2019-12-16 02:56:13  \n",
            "replacements_for_corrupted_files.zip   17MB  2019-12-16 02:56:13  \n",
            "train_1.zip                             5GB  2019-12-16 02:56:13  \n",
            "train_8.zip                             4GB  2019-12-16 02:56:13  \n",
            "train_info.csv                          7MB  2019-12-16 02:56:13  \n",
            "train_9.zip                             4GB  2019-12-16 02:56:13  \n",
            "submission_info.csv                   592MB  2019-12-16 02:56:13  \n"
          ]
        }
      ],
      "source": [
        "# Files from the Images dataset\n",
        "! kaggle competitions files painter-by-numbers"
      ]
    },
    {
      "cell_type": "code",
      "execution_count": 7,
      "metadata": {
        "colab": {
          "base_uri": "https://localhost:8080/"
        },
        "id": "efXY47ax85Mq",
        "outputId": "adb690ed-d362-467f-8dbe-ea57d887b98d"
      },
      "outputs": [
        {
          "name": "stdout",
          "output_type": "stream",
          "text": [
            "Downloading train_info.csv.zip to /content/data/raw\n",
            "\r  0% 0.00/2.46M [00:00<?, ?B/s]\n",
            "100% 2.46M/2.46M [00:00<00:00, 30.7MB/s]\n",
            "Downloading all_data_info.csv.zip to /content/data/raw\n",
            " 79% 3.00M/3.80M [00:00<00:00, 29.6MB/s]\n",
            "100% 3.80M/3.80M [00:00<00:00, 27.8MB/s]\n"
          ]
        }
      ],
      "source": [
        "! mkdir -p /content/data/raw\n",
        "! kaggle competitions download painter-by-numbers -f train_info.csv -p /content/data/raw\n",
        "! kaggle competitions download painter-by-numbers -f all_data_info.csv -p /content/data/raw"
      ]
    },
    {
      "cell_type": "code",
      "execution_count": 8,
      "metadata": {
        "colab": {
          "base_uri": "https://localhost:8080/"
        },
        "id": "azgxxcWs9ig8",
        "outputId": "a64a54f3-2a42-4b81-c3b1-de79814e2014"
      },
      "outputs": [
        {
          "name": "stdout",
          "output_type": "stream",
          "text": [
            "Archive:  /content/data/raw/all_data_info.csv.zip\n",
            "  inflating: /content/data/raw/all_data_info.csv  \n",
            "Archive:  /content/data/raw/train_info.csv.zip\n",
            "  inflating: /content/data/raw/train_info.csv  \n"
          ]
        }
      ],
      "source": [
        "! unzip /content/data/raw/all_data_info.csv.zip -d /content/data/raw/\n",
        "! unzip /content/data/raw/train_info.csv.zip -d /content/data/raw/"
      ]
    },
    {
      "cell_type": "markdown",
      "metadata": {
        "id": "-g8NqHUDYfM8"
      },
      "source": [
        "## Imports and load data"
      ]
    },
    {
      "cell_type": "code",
      "execution_count": 9,
      "metadata": {
        "id": "UDQ7hfTHA3G6"
      },
      "outputs": [],
      "source": [
        "import os\n",
        "\n",
        "import pandas as pd"
      ]
    },
    {
      "cell_type": "code",
      "execution_count": 10,
      "metadata": {
        "id": "Atd_ewNVA_EZ"
      },
      "outputs": [],
      "source": [
        "data_dir = '/content/data'\n",
        "raw_data_dir = os.path.join(data_dir, 'raw')\n",
        "\n",
        "raw_df = pd.read_csv(os.path.join(raw_data_dir, 'all_data_info.csv'))\n",
        "train_df = pd.read_csv(os.path.join(raw_data_dir, 'train_info.csv'))"
      ]
    },
    {
      "cell_type": "markdown",
      "metadata": {
        "id": "TGfUyPkU9uLr"
      },
      "source": [
        "# Explore the metadata a little"
      ]
    },
    {
      "cell_type": "code",
      "execution_count": 11,
      "metadata": {
        "colab": {
          "base_uri": "https://localhost:8080/"
        },
        "id": "S8P9zeVNBj7o",
        "outputId": "667b0a22-7900-4152-af42-eb32257ad9c7"
      },
      "outputs": [
        {
          "name": "stdout",
          "output_type": "stream",
          "text": [
            "<class 'pandas.core.frame.DataFrame'>\n",
            "RangeIndex: 103250 entries, 0 to 103249\n",
            "Data columns (total 12 columns):\n",
            " #   Column        Non-Null Count   Dtype  \n",
            "---  ------        --------------   -----  \n",
            " 0   artist        103250 non-null  object \n",
            " 1   date          76887 non-null   object \n",
            " 2   genre         101996 non-null  object \n",
            " 3   pixelsx       103250 non-null  float64\n",
            " 4   pixelsy       103250 non-null  float64\n",
            " 5   size_bytes    103250 non-null  float64\n",
            " 6   source        103083 non-null  object \n",
            " 7   style         102264 non-null  object \n",
            " 8   title         103128 non-null  object \n",
            " 9   artist_group  103250 non-null  object \n",
            " 10  in_train      103250 non-null  bool   \n",
            " 11  new_filename  103250 non-null  object \n",
            "dtypes: bool(1), float64(3), object(8)\n",
            "memory usage: 8.8+ MB\n"
          ]
        }
      ],
      "source": [
        "raw_df.info()"
      ]
    },
    {
      "cell_type": "code",
      "execution_count": 12,
      "metadata": {
        "colab": {
          "base_uri": "https://localhost:8080/",
          "height": 0
        },
        "id": "Bb5rZJSoBuIn",
        "outputId": "23027c1a-d527-4887-8b15-82251b1762ef"
      },
      "outputs": [
        {
          "data": {
            "text/html": [
              "\n",
              "  <div id=\"df-2e259ba7-6e79-490c-ab6e-210d0fc11d27\">\n",
              "    <div class=\"colab-df-container\">\n",
              "      <div>\n",
              "<style scoped>\n",
              "    .dataframe tbody tr th:only-of-type {\n",
              "        vertical-align: middle;\n",
              "    }\n",
              "\n",
              "    .dataframe tbody tr th {\n",
              "        vertical-align: top;\n",
              "    }\n",
              "\n",
              "    .dataframe thead th {\n",
              "        text-align: right;\n",
              "    }\n",
              "</style>\n",
              "<table border=\"1\" class=\"dataframe\">\n",
              "  <thead>\n",
              "    <tr style=\"text-align: right;\">\n",
              "      <th></th>\n",
              "      <th>artist</th>\n",
              "      <th>date</th>\n",
              "      <th>genre</th>\n",
              "      <th>pixelsx</th>\n",
              "      <th>pixelsy</th>\n",
              "      <th>size_bytes</th>\n",
              "      <th>source</th>\n",
              "      <th>style</th>\n",
              "      <th>title</th>\n",
              "      <th>artist_group</th>\n",
              "      <th>in_train</th>\n",
              "      <th>new_filename</th>\n",
              "    </tr>\n",
              "  </thead>\n",
              "  <tbody>\n",
              "    <tr>\n",
              "      <th>0</th>\n",
              "      <td>Barnett Newman</td>\n",
              "      <td>1955.0</td>\n",
              "      <td>abstract</td>\n",
              "      <td>15530.0</td>\n",
              "      <td>6911.0</td>\n",
              "      <td>9201912.0</td>\n",
              "      <td>wikiart</td>\n",
              "      <td>Color Field Painting</td>\n",
              "      <td>Uriel</td>\n",
              "      <td>train_only</td>\n",
              "      <td>True</td>\n",
              "      <td>102257.jpg</td>\n",
              "    </tr>\n",
              "    <tr>\n",
              "      <th>1</th>\n",
              "      <td>Barnett Newman</td>\n",
              "      <td>1950.0</td>\n",
              "      <td>abstract</td>\n",
              "      <td>14559.0</td>\n",
              "      <td>6866.0</td>\n",
              "      <td>8867532.0</td>\n",
              "      <td>wikiart</td>\n",
              "      <td>Color Field Painting</td>\n",
              "      <td>Vir Heroicus Sublimis</td>\n",
              "      <td>train_only</td>\n",
              "      <td>True</td>\n",
              "      <td>75232.jpg</td>\n",
              "    </tr>\n",
              "    <tr>\n",
              "      <th>2</th>\n",
              "      <td>kiri nichol</td>\n",
              "      <td>2013.0</td>\n",
              "      <td>NaN</td>\n",
              "      <td>9003.0</td>\n",
              "      <td>9004.0</td>\n",
              "      <td>1756681.0</td>\n",
              "      <td>NaN</td>\n",
              "      <td>Neoplasticism</td>\n",
              "      <td>NaN</td>\n",
              "      <td>test_only</td>\n",
              "      <td>False</td>\n",
              "      <td>32145.jpg</td>\n",
              "    </tr>\n",
              "    <tr>\n",
              "      <th>3</th>\n",
              "      <td>kiri nichol</td>\n",
              "      <td>2013.0</td>\n",
              "      <td>NaN</td>\n",
              "      <td>9003.0</td>\n",
              "      <td>9004.0</td>\n",
              "      <td>1942046.0</td>\n",
              "      <td>NaN</td>\n",
              "      <td>Neoplasticism</td>\n",
              "      <td>NaN</td>\n",
              "      <td>test_only</td>\n",
              "      <td>False</td>\n",
              "      <td>20304.jpg</td>\n",
              "    </tr>\n",
              "    <tr>\n",
              "      <th>4</th>\n",
              "      <td>kiri nichol</td>\n",
              "      <td>2013.0</td>\n",
              "      <td>NaN</td>\n",
              "      <td>9003.0</td>\n",
              "      <td>9004.0</td>\n",
              "      <td>1526212.0</td>\n",
              "      <td>NaN</td>\n",
              "      <td>Neoplasticism</td>\n",
              "      <td>NaN</td>\n",
              "      <td>test_only</td>\n",
              "      <td>False</td>\n",
              "      <td>836.jpg</td>\n",
              "    </tr>\n",
              "  </tbody>\n",
              "</table>\n",
              "</div>\n",
              "      <button class=\"colab-df-convert\" onclick=\"convertToInteractive('df-2e259ba7-6e79-490c-ab6e-210d0fc11d27')\"\n",
              "              title=\"Convert this dataframe to an interactive table.\"\n",
              "              style=\"display:none;\">\n",
              "        \n",
              "  <svg xmlns=\"http://www.w3.org/2000/svg\" height=\"24px\"viewBox=\"0 0 24 24\"\n",
              "       width=\"24px\">\n",
              "    <path d=\"M0 0h24v24H0V0z\" fill=\"none\"/>\n",
              "    <path d=\"M18.56 5.44l.94 2.06.94-2.06 2.06-.94-2.06-.94-.94-2.06-.94 2.06-2.06.94zm-11 1L8.5 8.5l.94-2.06 2.06-.94-2.06-.94L8.5 2.5l-.94 2.06-2.06.94zm10 10l.94 2.06.94-2.06 2.06-.94-2.06-.94-.94-2.06-.94 2.06-2.06.94z\"/><path d=\"M17.41 7.96l-1.37-1.37c-.4-.4-.92-.59-1.43-.59-.52 0-1.04.2-1.43.59L10.3 9.45l-7.72 7.72c-.78.78-.78 2.05 0 2.83L4 21.41c.39.39.9.59 1.41.59.51 0 1.02-.2 1.41-.59l7.78-7.78 2.81-2.81c.8-.78.8-2.07 0-2.86zM5.41 20L4 18.59l7.72-7.72 1.47 1.35L5.41 20z\"/>\n",
              "  </svg>\n",
              "      </button>\n",
              "      \n",
              "  <style>\n",
              "    .colab-df-container {\n",
              "      display:flex;\n",
              "      flex-wrap:wrap;\n",
              "      gap: 12px;\n",
              "    }\n",
              "\n",
              "    .colab-df-convert {\n",
              "      background-color: #E8F0FE;\n",
              "      border: none;\n",
              "      border-radius: 50%;\n",
              "      cursor: pointer;\n",
              "      display: none;\n",
              "      fill: #1967D2;\n",
              "      height: 32px;\n",
              "      padding: 0 0 0 0;\n",
              "      width: 32px;\n",
              "    }\n",
              "\n",
              "    .colab-df-convert:hover {\n",
              "      background-color: #E2EBFA;\n",
              "      box-shadow: 0px 1px 2px rgba(60, 64, 67, 0.3), 0px 1px 3px 1px rgba(60, 64, 67, 0.15);\n",
              "      fill: #174EA6;\n",
              "    }\n",
              "\n",
              "    [theme=dark] .colab-df-convert {\n",
              "      background-color: #3B4455;\n",
              "      fill: #D2E3FC;\n",
              "    }\n",
              "\n",
              "    [theme=dark] .colab-df-convert:hover {\n",
              "      background-color: #434B5C;\n",
              "      box-shadow: 0px 1px 3px 1px rgba(0, 0, 0, 0.15);\n",
              "      filter: drop-shadow(0px 1px 2px rgba(0, 0, 0, 0.3));\n",
              "      fill: #FFFFFF;\n",
              "    }\n",
              "  </style>\n",
              "\n",
              "      <script>\n",
              "        const buttonEl =\n",
              "          document.querySelector('#df-2e259ba7-6e79-490c-ab6e-210d0fc11d27 button.colab-df-convert');\n",
              "        buttonEl.style.display =\n",
              "          google.colab.kernel.accessAllowed ? 'block' : 'none';\n",
              "\n",
              "        async function convertToInteractive(key) {\n",
              "          const element = document.querySelector('#df-2e259ba7-6e79-490c-ab6e-210d0fc11d27');\n",
              "          const dataTable =\n",
              "            await google.colab.kernel.invokeFunction('convertToInteractive',\n",
              "                                                     [key], {});\n",
              "          if (!dataTable) return;\n",
              "\n",
              "          const docLinkHtml = 'Like what you see? Visit the ' +\n",
              "            '<a target=\"_blank\" href=https://colab.research.google.com/notebooks/data_table.ipynb>data table notebook</a>'\n",
              "            + ' to learn more about interactive tables.';\n",
              "          element.innerHTML = '';\n",
              "          dataTable['output_type'] = 'display_data';\n",
              "          await google.colab.output.renderOutput(dataTable, element);\n",
              "          const docLink = document.createElement('div');\n",
              "          docLink.innerHTML = docLinkHtml;\n",
              "          element.appendChild(docLink);\n",
              "        }\n",
              "      </script>\n",
              "    </div>\n",
              "  </div>\n",
              "  "
            ],
            "text/plain": [
              "           artist    date     genre  pixelsx  pixelsy  size_bytes   source  \\\n",
              "0  Barnett Newman  1955.0  abstract  15530.0   6911.0   9201912.0  wikiart   \n",
              "1  Barnett Newman  1950.0  abstract  14559.0   6866.0   8867532.0  wikiart   \n",
              "2     kiri nichol  2013.0       NaN   9003.0   9004.0   1756681.0      NaN   \n",
              "3     kiri nichol  2013.0       NaN   9003.0   9004.0   1942046.0      NaN   \n",
              "4     kiri nichol  2013.0       NaN   9003.0   9004.0   1526212.0      NaN   \n",
              "\n",
              "                  style                  title artist_group  in_train  \\\n",
              "0  Color Field Painting                  Uriel   train_only      True   \n",
              "1  Color Field Painting  Vir Heroicus Sublimis   train_only      True   \n",
              "2         Neoplasticism                    NaN    test_only     False   \n",
              "3         Neoplasticism                    NaN    test_only     False   \n",
              "4         Neoplasticism                    NaN    test_only     False   \n",
              "\n",
              "  new_filename  \n",
              "0   102257.jpg  \n",
              "1    75232.jpg  \n",
              "2    32145.jpg  \n",
              "3    20304.jpg  \n",
              "4      836.jpg  "
            ]
          },
          "execution_count": 12,
          "metadata": {},
          "output_type": "execute_result"
        }
      ],
      "source": [
        "raw_df.head()"
      ]
    },
    {
      "cell_type": "code",
      "execution_count": 13,
      "metadata": {
        "colab": {
          "base_uri": "https://localhost:8080/"
        },
        "id": "xKrCCVAuBmZH",
        "outputId": "80e14cf7-5cad-481c-eacb-5b79d90cde42"
      },
      "outputs": [
        {
          "name": "stdout",
          "output_type": "stream",
          "text": [
            "<class 'pandas.core.frame.DataFrame'>\n",
            "RangeIndex: 79433 entries, 0 to 79432\n",
            "Data columns (total 6 columns):\n",
            " #   Column    Non-Null Count  Dtype \n",
            "---  ------    --------------  ----- \n",
            " 0   filename  79433 non-null  object\n",
            " 1   artist    79433 non-null  object\n",
            " 2   title     79420 non-null  object\n",
            " 3   style     78668 non-null  object\n",
            " 4   genre     78540 non-null  object\n",
            " 5   date      59178 non-null  object\n",
            "dtypes: object(6)\n",
            "memory usage: 3.6+ MB\n"
          ]
        }
      ],
      "source": [
        "train_df.info()"
      ]
    },
    {
      "cell_type": "code",
      "execution_count": 14,
      "metadata": {
        "colab": {
          "base_uri": "https://localhost:8080/",
          "height": 0
        },
        "id": "y568vBH2Bq3y",
        "outputId": "69bac906-1371-4ffe-eb7c-4be53f6558fa"
      },
      "outputs": [
        {
          "data": {
            "text/html": [
              "\n",
              "  <div id=\"df-df9e12ea-3e94-4ecf-afa7-8fafd77e5e0c\">\n",
              "    <div class=\"colab-df-container\">\n",
              "      <div>\n",
              "<style scoped>\n",
              "    .dataframe tbody tr th:only-of-type {\n",
              "        vertical-align: middle;\n",
              "    }\n",
              "\n",
              "    .dataframe tbody tr th {\n",
              "        vertical-align: top;\n",
              "    }\n",
              "\n",
              "    .dataframe thead th {\n",
              "        text-align: right;\n",
              "    }\n",
              "</style>\n",
              "<table border=\"1\" class=\"dataframe\">\n",
              "  <thead>\n",
              "    <tr style=\"text-align: right;\">\n",
              "      <th></th>\n",
              "      <th>filename</th>\n",
              "      <th>artist</th>\n",
              "      <th>title</th>\n",
              "      <th>style</th>\n",
              "      <th>genre</th>\n",
              "      <th>date</th>\n",
              "    </tr>\n",
              "  </thead>\n",
              "  <tbody>\n",
              "    <tr>\n",
              "      <th>0</th>\n",
              "      <td>102257.jpg</td>\n",
              "      <td>5b39c876740bfc1cfaf544721c43cac3</td>\n",
              "      <td>Uriel</td>\n",
              "      <td>Color Field Painting</td>\n",
              "      <td>abstract</td>\n",
              "      <td>1955.0</td>\n",
              "    </tr>\n",
              "    <tr>\n",
              "      <th>1</th>\n",
              "      <td>75232.jpg</td>\n",
              "      <td>5b39c876740bfc1cfaf544721c43cac3</td>\n",
              "      <td>Vir Heroicus Sublimis</td>\n",
              "      <td>Color Field Painting</td>\n",
              "      <td>abstract</td>\n",
              "      <td>1950.0</td>\n",
              "    </tr>\n",
              "    <tr>\n",
              "      <th>2</th>\n",
              "      <td>29855.jpg</td>\n",
              "      <td>96e5bc98488ed589b9bf17ad9fd09371</td>\n",
              "      <td>Night March of a Hundred Demons (left half)</td>\n",
              "      <td>Yamato-e</td>\n",
              "      <td>mythological painting</td>\n",
              "      <td>NaN</td>\n",
              "    </tr>\n",
              "    <tr>\n",
              "      <th>3</th>\n",
              "      <td>62252.jpg</td>\n",
              "      <td>5b39c876740bfc1cfaf544721c43cac3</td>\n",
              "      <td>Who’s Afraid of Red,  Yellow and Blue II</td>\n",
              "      <td>Color Field Painting</td>\n",
              "      <td>abstract</td>\n",
              "      <td>NaN</td>\n",
              "    </tr>\n",
              "    <tr>\n",
              "      <th>4</th>\n",
              "      <td>63861.jpg</td>\n",
              "      <td>5b39c876740bfc1cfaf544721c43cac3</td>\n",
              "      <td>Black Fire I</td>\n",
              "      <td>Color Field Painting</td>\n",
              "      <td>abstract</td>\n",
              "      <td>1963.0</td>\n",
              "    </tr>\n",
              "  </tbody>\n",
              "</table>\n",
              "</div>\n",
              "      <button class=\"colab-df-convert\" onclick=\"convertToInteractive('df-df9e12ea-3e94-4ecf-afa7-8fafd77e5e0c')\"\n",
              "              title=\"Convert this dataframe to an interactive table.\"\n",
              "              style=\"display:none;\">\n",
              "        \n",
              "  <svg xmlns=\"http://www.w3.org/2000/svg\" height=\"24px\"viewBox=\"0 0 24 24\"\n",
              "       width=\"24px\">\n",
              "    <path d=\"M0 0h24v24H0V0z\" fill=\"none\"/>\n",
              "    <path d=\"M18.56 5.44l.94 2.06.94-2.06 2.06-.94-2.06-.94-.94-2.06-.94 2.06-2.06.94zm-11 1L8.5 8.5l.94-2.06 2.06-.94-2.06-.94L8.5 2.5l-.94 2.06-2.06.94zm10 10l.94 2.06.94-2.06 2.06-.94-2.06-.94-.94-2.06-.94 2.06-2.06.94z\"/><path d=\"M17.41 7.96l-1.37-1.37c-.4-.4-.92-.59-1.43-.59-.52 0-1.04.2-1.43.59L10.3 9.45l-7.72 7.72c-.78.78-.78 2.05 0 2.83L4 21.41c.39.39.9.59 1.41.59.51 0 1.02-.2 1.41-.59l7.78-7.78 2.81-2.81c.8-.78.8-2.07 0-2.86zM5.41 20L4 18.59l7.72-7.72 1.47 1.35L5.41 20z\"/>\n",
              "  </svg>\n",
              "      </button>\n",
              "      \n",
              "  <style>\n",
              "    .colab-df-container {\n",
              "      display:flex;\n",
              "      flex-wrap:wrap;\n",
              "      gap: 12px;\n",
              "    }\n",
              "\n",
              "    .colab-df-convert {\n",
              "      background-color: #E8F0FE;\n",
              "      border: none;\n",
              "      border-radius: 50%;\n",
              "      cursor: pointer;\n",
              "      display: none;\n",
              "      fill: #1967D2;\n",
              "      height: 32px;\n",
              "      padding: 0 0 0 0;\n",
              "      width: 32px;\n",
              "    }\n",
              "\n",
              "    .colab-df-convert:hover {\n",
              "      background-color: #E2EBFA;\n",
              "      box-shadow: 0px 1px 2px rgba(60, 64, 67, 0.3), 0px 1px 3px 1px rgba(60, 64, 67, 0.15);\n",
              "      fill: #174EA6;\n",
              "    }\n",
              "\n",
              "    [theme=dark] .colab-df-convert {\n",
              "      background-color: #3B4455;\n",
              "      fill: #D2E3FC;\n",
              "    }\n",
              "\n",
              "    [theme=dark] .colab-df-convert:hover {\n",
              "      background-color: #434B5C;\n",
              "      box-shadow: 0px 1px 3px 1px rgba(0, 0, 0, 0.15);\n",
              "      filter: drop-shadow(0px 1px 2px rgba(0, 0, 0, 0.3));\n",
              "      fill: #FFFFFF;\n",
              "    }\n",
              "  </style>\n",
              "\n",
              "      <script>\n",
              "        const buttonEl =\n",
              "          document.querySelector('#df-df9e12ea-3e94-4ecf-afa7-8fafd77e5e0c button.colab-df-convert');\n",
              "        buttonEl.style.display =\n",
              "          google.colab.kernel.accessAllowed ? 'block' : 'none';\n",
              "\n",
              "        async function convertToInteractive(key) {\n",
              "          const element = document.querySelector('#df-df9e12ea-3e94-4ecf-afa7-8fafd77e5e0c');\n",
              "          const dataTable =\n",
              "            await google.colab.kernel.invokeFunction('convertToInteractive',\n",
              "                                                     [key], {});\n",
              "          if (!dataTable) return;\n",
              "\n",
              "          const docLinkHtml = 'Like what you see? Visit the ' +\n",
              "            '<a target=\"_blank\" href=https://colab.research.google.com/notebooks/data_table.ipynb>data table notebook</a>'\n",
              "            + ' to learn more about interactive tables.';\n",
              "          element.innerHTML = '';\n",
              "          dataTable['output_type'] = 'display_data';\n",
              "          await google.colab.output.renderOutput(dataTable, element);\n",
              "          const docLink = document.createElement('div');\n",
              "          docLink.innerHTML = docLinkHtml;\n",
              "          element.appendChild(docLink);\n",
              "        }\n",
              "      </script>\n",
              "    </div>\n",
              "  </div>\n",
              "  "
            ],
            "text/plain": [
              "     filename                            artist  \\\n",
              "0  102257.jpg  5b39c876740bfc1cfaf544721c43cac3   \n",
              "1   75232.jpg  5b39c876740bfc1cfaf544721c43cac3   \n",
              "2   29855.jpg  96e5bc98488ed589b9bf17ad9fd09371   \n",
              "3   62252.jpg  5b39c876740bfc1cfaf544721c43cac3   \n",
              "4   63861.jpg  5b39c876740bfc1cfaf544721c43cac3   \n",
              "\n",
              "                                         title                 style  \\\n",
              "0                                        Uriel  Color Field Painting   \n",
              "1                        Vir Heroicus Sublimis  Color Field Painting   \n",
              "2  Night March of a Hundred Demons (left half)              Yamato-e   \n",
              "3     Who’s Afraid of Red,  Yellow and Blue II  Color Field Painting   \n",
              "4                                Black Fire I   Color Field Painting   \n",
              "\n",
              "                   genre    date  \n",
              "0               abstract  1955.0  \n",
              "1               abstract  1950.0  \n",
              "2  mythological painting     NaN  \n",
              "3               abstract     NaN  \n",
              "4               abstract  1963.0  "
            ]
          },
          "execution_count": 14,
          "metadata": {},
          "output_type": "execute_result"
        }
      ],
      "source": [
        "train_df.head()"
      ]
    },
    {
      "cell_type": "markdown",
      "metadata": {
        "id": "yV5Bhy2cMcbK"
      },
      "source": [
        "# Preprocessing"
      ]
    },
    {
      "cell_type": "code",
      "execution_count": 15,
      "metadata": {
        "id": "43_uohIzZaxS"
      },
      "outputs": [],
      "source": [
        "raw_df['style'] = raw_df['style'].str.replace('Na.ve Art', 'Naive Art', regex=True)"
      ]
    },
    {
      "cell_type": "code",
      "execution_count": 16,
      "metadata": {
        "id": "Hi3kmsO-Ulq6"
      },
      "outputs": [],
      "source": [
        "# artists classes\n",
        "artist_classes = list(raw_df.groupby(['artist']).size().sort_values(ascending=False)[:20].index)\n",
        "\n",
        "# genre classes\n",
        "genre_classes = list(raw_df.groupby(['genre']).size().sort_values(ascending=False)[:10].index)\n",
        "\n",
        "# style classes\n",
        "style_classes = list(raw_df.groupby(['style']).size().sort_values(ascending=False)[:20].index)"
      ]
    },
    {
      "cell_type": "code",
      "execution_count": 17,
      "metadata": {
        "id": "DFRi-n1LZbqR"
      },
      "outputs": [],
      "source": [
        "# write the classes out to text file\n",
        "! mkdir /content/data/artists/\n",
        "with open('/content/data/artists/classes.txt', 'w') as f:\n",
        "    for artist in artist_classes:\n",
        "        f.write(artist + '\\n')\n",
        "\n",
        "! mkdir /content/data/genres/\n",
        "with open('/content/data/genres/classes.txt', 'w') as f:\n",
        "    for genre in genre_classes:\n",
        "        f.write(genre + '\\n')\n",
        "\n",
        "! mkdir /content/data/styles/\n",
        "with open('/content/data/styles/classes.txt', 'w') as f:\n",
        "    for style in style_classes:\n",
        "        f.write(style + '\\n')"
      ]
    },
    {
      "cell_type": "markdown",
      "metadata": {
        "id": "h8fRVZlD21_7"
      },
      "source": [
        "# Make artists dataframe"
      ]
    },
    {
      "cell_type": "code",
      "execution_count": 18,
      "metadata": {
        "colab": {
          "base_uri": "https://localhost:8080/"
        },
        "id": "qOyLcU3_xWUq",
        "outputId": "ab6791bb-6415-469f-bbe8-efaaa421b4c5"
      },
      "outputs": [
        {
          "data": {
            "text/plain": [
              "artist\n",
              "Albrecht Durer                500\n",
              "Boris Kustodiev               498\n",
              "Camille Pissarro              499\n",
              "Claude Monet                  498\n",
              "Giovanni Battista Piranesi    500\n",
              "Gustave Dore                  500\n",
              "Ilya Repin                    500\n",
              "Ivan Aivazovsky               500\n",
              "Ivan Shishkin                 500\n",
              "John Singer Sargent           500\n",
              "Marc Chagall                  500\n",
              "Martiros Saryan               499\n",
              "Pablo Picasso                 500\n",
              "Paul Cezanne                  499\n",
              "Paul Gauguin                  498\n",
              "Pierre-Auguste Renoir         500\n",
              "Pyotr Konchalovsky            499\n",
              "Raphael Kirchner              497\n",
              "Rembrandt                     500\n",
              "Zdislav Beksinski             500\n",
              "dtype: int64"
            ]
          },
          "execution_count": 18,
          "metadata": {},
          "output_type": "execute_result"
        }
      ],
      "source": [
        "# dataframe only consisting of chosen artists\n",
        "artists_df = raw_df[raw_df['artist'].isin(artist_classes)]\n",
        "\n",
        "# number of images per artist\n",
        "artists_df.groupby(['artist']).size()"
      ]
    },
    {
      "cell_type": "code",
      "execution_count": 19,
      "metadata": {
        "id": "x6XWryUf0wqP"
      },
      "outputs": [],
      "source": [
        "# save artist_df for later use\n",
        "artists_df.to_csv('/content/data/artists/all_artists.csv')"
      ]
    },
    {
      "cell_type": "markdown",
      "metadata": {
        "id": "qDaugPZL2zAE"
      },
      "source": [
        "# Make genres dataframe"
      ]
    },
    {
      "cell_type": "code",
      "execution_count": 20,
      "metadata": {
        "colab": {
          "base_uri": "https://localhost:8080/"
        },
        "id": "1Cf6uCSlBJVL",
        "outputId": "88823faf-ed22-46f6-fc36-fb56b40adfb7"
      },
      "outputs": [
        {
          "data": {
            "text/plain": [
              "genre\n",
              "abstract               9498\n",
              "cityscape              5348\n",
              "genre painting        14260\n",
              "illustration           3202\n",
              "landscape             15006\n",
              "portrait              16847\n",
              "religious painting     7429\n",
              "sketch and study       3644\n",
              "still life             3132\n",
              "symbolic painting      2545\n",
              "dtype: int64"
            ]
          },
          "execution_count": 20,
          "metadata": {},
          "output_type": "execute_result"
        }
      ],
      "source": [
        "raw_df_na_genre_dropped = raw_df[raw_df['genre'].notna()]\n",
        "\n",
        "genres_df = raw_df_na_genre_dropped[raw_df_na_genre_dropped['genre'].isin(genre_classes)]\n",
        "\n",
        "genres_df.groupby(['genre']).size()"
      ]
    },
    {
      "cell_type": "code",
      "execution_count": 21,
      "metadata": {
        "colab": {
          "base_uri": "https://localhost:8080/"
        },
        "id": "KfTj6c9MbHgo",
        "outputId": "f6abecc8-a6c8-448e-f545-1929f962e18d"
      },
      "outputs": [
        {
          "data": {
            "text/plain": [
              "genre\n",
              "abstract              2000\n",
              "cityscape             2000\n",
              "genre painting        2000\n",
              "illustration          2000\n",
              "landscape             2000\n",
              "portrait              2000\n",
              "religious painting    2000\n",
              "sketch and study      2000\n",
              "still life            2000\n",
              "symbolic painting     2000\n",
              "dtype: int64"
            ]
          },
          "execution_count": 21,
          "metadata": {},
          "output_type": "execute_result"
        }
      ],
      "source": [
        "genres_df = genres_df.groupby(['genre']).sample(n=2000, random_state=42)\n",
        "genres_df.groupby(['genre']).size()"
      ]
    },
    {
      "cell_type": "code",
      "execution_count": 22,
      "metadata": {
        "id": "_t0Jg1ZQ3o-L"
      },
      "outputs": [],
      "source": [
        "genres_df.to_csv('/content/data/genres/all_genres.csv')"
      ]
    },
    {
      "cell_type": "markdown",
      "metadata": {
        "id": "DpIoMllg4K6T"
      },
      "source": [
        "# Make styles dataframe"
      ]
    },
    {
      "cell_type": "code",
      "execution_count": 23,
      "metadata": {
        "colab": {
          "base_uri": "https://localhost:8080/"
        },
        "id": "HUYf2onEDHt-",
        "outputId": "408dfd50-79e6-4d72-8f75-1e020e9e2a21"
      },
      "outputs": [
        {
          "data": {
            "text/plain": [
              "style\n",
              "Abstract Expressionism           2074\n",
              "Art Informel                     1267\n",
              "Art Nouveau (Modern)             4899\n",
              "Baroque                          4400\n",
              "Cubism                           1747\n",
              "Early Renaissance                1351\n",
              "Expressionism                    7013\n",
              "High Renaissance                 1314\n",
              "Impressionism                   10643\n",
              "Mannerism (Late Renaissance)     1342\n",
              "Naive Art (Primitivism)          2295\n",
              "Neoclassicism                    2038\n",
              "Northern Renaissance             2379\n",
              "Post-Impressionism               5778\n",
              "Realism                         10523\n",
              "Rococo                           2733\n",
              "Romanticism                      9285\n",
              "Surrealism                       4167\n",
              "Symbolism                        3476\n",
              "Ukiyo-e                          1426\n",
              "dtype: int64"
            ]
          },
          "execution_count": 23,
          "metadata": {},
          "output_type": "execute_result"
        }
      ],
      "source": [
        "raw_df_na_style_dropped = raw_df[raw_df['style'].notna()]\n",
        "\n",
        "styles_df = raw_df_na_style_dropped[raw_df_na_style_dropped['style'].isin(style_classes)]\n",
        "\n",
        "styles_df.groupby(['style']).size()"
      ]
    },
    {
      "cell_type": "code",
      "execution_count": 24,
      "metadata": {
        "colab": {
          "base_uri": "https://localhost:8080/"
        },
        "id": "Ozn-CW7ydDMy",
        "outputId": "2231e67f-89c5-4d44-f4c3-c160da0fa4ba"
      },
      "outputs": [
        {
          "data": {
            "text/plain": [
              "style\n",
              "Abstract Expressionism          1000\n",
              "Art Informel                    1000\n",
              "Art Nouveau (Modern)            1000\n",
              "Baroque                         1000\n",
              "Cubism                          1000\n",
              "Early Renaissance               1000\n",
              "Expressionism                   1000\n",
              "High Renaissance                1000\n",
              "Impressionism                   1000\n",
              "Mannerism (Late Renaissance)    1000\n",
              "Naive Art (Primitivism)         1000\n",
              "Neoclassicism                   1000\n",
              "Northern Renaissance            1000\n",
              "Post-Impressionism              1000\n",
              "Realism                         1000\n",
              "Rococo                          1000\n",
              "Romanticism                     1000\n",
              "Surrealism                      1000\n",
              "Symbolism                       1000\n",
              "Ukiyo-e                         1000\n",
              "dtype: int64"
            ]
          },
          "execution_count": 24,
          "metadata": {},
          "output_type": "execute_result"
        }
      ],
      "source": [
        "styles_df = styles_df.groupby(['style']).sample(n=1000, random_state=42)\n",
        "styles_df.groupby(['style']).size()"
      ]
    },
    {
      "cell_type": "code",
      "execution_count": 25,
      "metadata": {
        "id": "ZR-H-tuqH9gG"
      },
      "outputs": [],
      "source": [
        "styles_df.to_csv('/content/data/styles/all_styles.csv')"
      ]
    },
    {
      "cell_type": "code",
      "execution_count": 26,
      "metadata": {
        "colab": {
          "base_uri": "https://localhost:8080/",
          "height": 296
        },
        "id": "2-EBUgiKY21a",
        "outputId": "78b1bc7a-91b5-44f8-8343-1bee549377fe"
      },
      "outputs": [
        {
          "name": "stdout",
          "output_type": "stream",
          "text": [
            "  adding: content/data/ (stored 0%)\n",
            "  adding: content/data/styles/ (stored 0%)\n",
            "  adding: content/data/styles/all_styles.csv (deflated 73%)\n",
            "  adding: content/data/styles/classes.txt (deflated 40%)\n",
            "  adding: content/data/raw/ (stored 0%)\n",
            "  adding: content/data/raw/train_info.csv (deflated 67%)\n",
            "  adding: content/data/raw/all_data_info.csv (deflated 71%)\n",
            "  adding: content/data/raw/all_data_info.csv.zip (stored 0%)\n",
            "  adding: content/data/raw/train_info.csv.zip (stored 0%)\n",
            "  adding: content/data/genres/ (stored 0%)\n",
            "  adding: content/data/genres/all_genres.csv (deflated 71%)\n",
            "  adding: content/data/genres/classes.txt (deflated 31%)\n",
            "  adding: content/data/artists/ (stored 0%)\n",
            "  adding: content/data/artists/classes.txt (deflated 30%)\n",
            "  adding: content/data/artists/all_artists.csv (deflated 76%)\n"
          ]
        },
        {
          "data": {
            "application/javascript": "\n    async function download(id, filename, size) {\n      if (!google.colab.kernel.accessAllowed) {\n        return;\n      }\n      const div = document.createElement('div');\n      const label = document.createElement('label');\n      label.textContent = `Downloading \"${filename}\": `;\n      div.appendChild(label);\n      const progress = document.createElement('progress');\n      progress.max = size;\n      div.appendChild(progress);\n      document.body.appendChild(div);\n\n      const buffers = [];\n      let downloaded = 0;\n\n      const channel = await google.colab.kernel.comms.open(id);\n      // Send a message to notify the kernel that we're ready.\n      channel.send({})\n\n      for await (const message of channel.messages) {\n        // Send a message to notify the kernel that we're ready.\n        channel.send({})\n        if (message.buffers) {\n          for (const buffer of message.buffers) {\n            buffers.push(buffer);\n            downloaded += buffer.byteLength;\n            progress.value = downloaded;\n          }\n        }\n      }\n      const blob = new Blob(buffers, {type: 'application/binary'});\n      const a = document.createElement('a');\n      a.href = window.URL.createObjectURL(blob);\n      a.download = filename;\n      div.appendChild(a);\n      a.click();\n      div.remove();\n    }\n  ",
            "text/plain": [
              "<IPython.core.display.Javascript object>"
            ]
          },
          "metadata": {},
          "output_type": "display_data"
        },
        {
          "data": {
            "application/javascript": "download(\"download_aba830dc-1087-4405-b292-c62954318f0d\", \"dataset.zip\", 14931070)",
            "text/plain": [
              "<IPython.core.display.Javascript object>"
            ]
          },
          "metadata": {},
          "output_type": "display_data"
        }
      ],
      "source": [
        "# Download generated files\n",
        "from google.colab import files\n",
        "\n",
        "! zip -r /content/dataset.zip /content/data/\n",
        "\n",
        "files.download('/content/dataset.zip')"
      ]
    },
    {
      "cell_type": "code",
      "execution_count": null,
      "metadata": {
        "id": "R1jZdEEcfitT"
      },
      "outputs": [],
      "source": []
    }
  ],
  "metadata": {
    "colab": {
      "collapsed_sections": [
        "UTI-0iKrYRSV",
        "TGfUyPkU9uLr"
      ],
      "name": "Art inspector dataset generation.ipynb",
      "provenance": []
    },
    "kernelspec": {
      "display_name": "Python 3",
      "name": "python3"
    },
    "language_info": {
      "name": "python",
      "version": "3.9.7"
    }
  },
  "nbformat": 4,
  "nbformat_minor": 0
}
